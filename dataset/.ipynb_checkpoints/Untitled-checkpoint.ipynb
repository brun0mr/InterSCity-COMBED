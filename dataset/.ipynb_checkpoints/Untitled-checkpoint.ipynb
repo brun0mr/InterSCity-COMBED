{
 "cells": [
  {
   "cell_type": "code",
   "execution_count": 1,
   "id": "7c8ab76b",
   "metadata": {},
   "outputs": [],
   "source": [
    "from pprint import pprint\n",
    "from pandas import HDFStore\n"
   ]
  },
  {
   "cell_type": "code",
   "execution_count": 3,
   "id": "3f234159",
   "metadata": {},
   "outputs": [
    {
     "name": "stdout",
     "output_type": "stream",
     "text": [
      "['/building2/elec/meter1',\n",
      " '/building2/elec/meter2',\n",
      " '/building2/elec/meter3',\n",
      " '/building2/elec/meter4',\n",
      " '/building2/elec/meter5',\n",
      " '/building2/elec/meter6',\n",
      " '/building1/elec/meter1',\n",
      " '/building1/elec/meter10',\n",
      " '/building1/elec/meter11',\n",
      " '/building1/elec/meter12',\n",
      " '/building1/elec/meter13',\n",
      " '/building1/elec/meter14',\n",
      " '/building1/elec/meter2',\n",
      " '/building1/elec/meter3',\n",
      " '/building1/elec/meter4',\n",
      " '/building1/elec/meter5',\n",
      " '/building1/elec/meter6',\n",
      " '/building1/elec/meter7',\n",
      " '/building1/elec/meter8',\n",
      " '/building1/elec/meter9']\n"
     ]
    }
   ],
   "source": [
    "with HDFStore('combed.h5') as data_store:\n",
    "    pprint(data_store.keys())"
   ]
  },
  {
   "cell_type": "code",
   "execution_count": 6,
   "id": "ee4a8585",
   "metadata": {},
   "outputs": [
    {
     "name": "stdout",
     "output_type": "stream",
     "text": [
      "[{'instance': 1, 'meters': [2], 'original_name': 'lift', 'type': 'elevator'},\n",
      " {'instance': 1, 'meters': [8], 'original_name': 'AHU', 'type': 'AHU'},\n",
      " {'instance': 2, 'meters': [9], 'original_name': 'AHU', 'type': 'AHU'},\n",
      " {'instance': 3, 'meters': [10], 'original_name': 'AHU', 'type': 'AHU'},\n",
      " {'instance': 4, 'meters': [11], 'original_name': 'AHU', 'type': 'AHU'},\n",
      " {'instance': 1, 'meters': [12], 'original_name': 'Lights', 'type': 'light'},\n",
      " {'instance': 1,\n",
      "  'meters': [13],\n",
      "  'original_name': 'Power Sockets',\n",
      "  'type': 'sockets'},\n",
      " {'instance': 2,\n",
      "  'meters': [14],\n",
      "  'original_name': 'UPS Sockets',\n",
      "  'type': 'sockets'}]\n"
     ]
    }
   ],
   "source": [
    "key = '/building1/'\n",
    "with HDFStore('combed.h5') as data_store:\n",
    "    node = data_store.get_node(key)\n",
    "    pprint(node._v_attrs.metadata['appliances'])"
   ]
  },
  {
   "cell_type": "code",
   "execution_count": 7,
   "id": "9b72817f",
   "metadata": {},
   "outputs": [
    {
     "name": "stdout",
     "output_type": "stream",
     "text": [
      "MultiIndex([('current',       ''),\n",
      "            ( 'energy', 'active'),\n",
      "            (  'power', 'active')],\n",
      "           names=['physical_quantity', 'type'])\n"
     ]
    }
   ],
   "source": [
    "with HDFStore('combed.h5') as data_store:\n",
    "    df = data_store.get('/building1/elec/meter14')\n",
    "    print(df.columns)"
   ]
  },
  {
   "cell_type": "code",
   "execution_count": 9,
   "id": "516f46f7",
   "metadata": {},
   "outputs": [
    {
     "ename": "ModuleNotFoundError",
     "evalue": "No module named 'tabulate'",
     "output_type": "error",
     "traceback": [
      "\u001b[1;31m---------------------------------------------------------------------------\u001b[0m",
      "\u001b[1;31mModuleNotFoundError\u001b[0m                       Traceback (most recent call last)",
      "\u001b[1;32m~\\AppData\\Local\\Temp/ipykernel_31024/1380500852.py\u001b[0m in \u001b[0;36m<module>\u001b[1;34m\u001b[0m\n\u001b[1;32m----> 1\u001b[1;33m \u001b[1;32mfrom\u001b[0m \u001b[0mtabulate\u001b[0m \u001b[1;32mimport\u001b[0m \u001b[0mtabulate\u001b[0m\u001b[1;33m\u001b[0m\u001b[1;33m\u001b[0m\u001b[0m\n\u001b[0m\u001b[0;32m      2\u001b[0m \u001b[0mpower_df\u001b[0m \u001b[1;33m=\u001b[0m \u001b[0mdf\u001b[0m\u001b[1;33m[\u001b[0m\u001b[1;34m'power'\u001b[0m\u001b[1;33m]\u001b[0m\u001b[1;33m\u001b[0m\u001b[1;33m\u001b[0m\u001b[0m\n\u001b[0;32m      3\u001b[0m \u001b[0mprint\u001b[0m\u001b[1;33m(\u001b[0m\u001b[0mtabulate\u001b[0m\u001b[1;33m(\u001b[0m\u001b[0mpower_df\u001b[0m\u001b[1;33m.\u001b[0m\u001b[0mhead\u001b[0m\u001b[1;33m(\u001b[0m\u001b[1;33m)\u001b[0m\u001b[1;33m,\u001b[0m \u001b[0mheaders\u001b[0m\u001b[1;33m=\u001b[0m\u001b[1;34m'keys'\u001b[0m\u001b[1;33m,\u001b[0m \u001b[0mtablefmt\u001b[0m\u001b[1;33m=\u001b[0m\u001b[1;34m'psql'\u001b[0m\u001b[1;33m)\u001b[0m\u001b[1;33m)\u001b[0m\u001b[1;33m\u001b[0m\u001b[1;33m\u001b[0m\u001b[0m\n",
      "\u001b[1;31mModuleNotFoundError\u001b[0m: No module named 'tabulate'"
     ]
    }
   ],
   "source": [
    "\n",
    "from tabulate import tabulate\n",
    "power_df = df['power']\n",
    "print(tabulate(power_df.head(), headers='keys', tablefmt='psql'))"
   ]
  },
  {
   "cell_type": "code",
   "execution_count": null,
   "id": "329cd7e3",
   "metadata": {},
   "outputs": [],
   "source": []
  }
 ],
 "metadata": {
  "kernelspec": {
   "display_name": "Python 3 (ipykernel)",
   "language": "python",
   "name": "python3"
  },
  "language_info": {
   "codemirror_mode": {
    "name": "ipython",
    "version": 3
   },
   "file_extension": ".py",
   "mimetype": "text/x-python",
   "name": "python",
   "nbconvert_exporter": "python",
   "pygments_lexer": "ipython3",
   "version": "3.9.7"
  }
 },
 "nbformat": 4,
 "nbformat_minor": 5
}
