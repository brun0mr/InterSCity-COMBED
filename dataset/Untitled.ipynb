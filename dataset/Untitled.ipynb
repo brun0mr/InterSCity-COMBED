{
 "cells": [
  {
   "cell_type": "code",
   "execution_count": null,
   "id": "7c8ab76b",
   "metadata": {},
   "outputs": [],
   "source": [
    "import requests\n",
    "import os\n",
    "import csv\n",
    "import time"
   ]
  },
  {
   "cell_type": "code",
   "execution_count": null,
   "id": "329cd7e3",
   "metadata": {},
   "outputs": [],
   "source": [
    "rootdir = \"./iiitd\"\n",
    "with open('output.txt', 'w') as f:\n",
    "    for subdir, dirs, files in os.walk(rootdir):\n",
    "        for file in files:\n",
    "            filepath = subdir + os.sep + file\n",
    "            if file.endswith(\"Power.csv\"):\n",
    "                csv_file = open(filepath)\n",
    "                csvreader = csv.reader(csv_file)\n",
    "                dir = subdir.split(\"\\\\\")\n",
    "                dir.pop(0)\n",
    "                dir_join = ' '.join(dir)\n",
    "                for row in csvreader:\n",
    "                    t = float(row[0])\n",
    "                    t = t/1000.0\n",
    "                    t = int(t)\n",
    "                    t = time.strftime('%Y-%m-%d %H:%M:%S', time.localtime(t))\n",
    "                    #print(\"Local: \" + dir_join +\" Data: \" + t + \" Consumo em Kwh: \" + row[1])\n",
    "                    f.write(\"Local: \" + dir_join +\" Data: \" + t + \" Consumo em Kwh: \" + row[1])\n",
    "                csv_file.close()\n",
    "            \n",
    "            "
   ]
  }
 ],
 "metadata": {
  "kernelspec": {
   "display_name": "Python 3 (ipykernel)",
   "language": "python",
   "name": "python3"
  },
  "language_info": {
   "codemirror_mode": {
    "name": "ipython",
    "version": 3
   },
   "file_extension": ".py",
   "mimetype": "text/x-python",
   "name": "python",
   "nbconvert_exporter": "python",
   "pygments_lexer": "ipython3",
   "version": "3.9.7"
  }
 },
 "nbformat": 4,
 "nbformat_minor": 5
}
